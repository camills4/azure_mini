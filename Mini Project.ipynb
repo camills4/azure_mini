{
 "cells": [
  {
   "cell_type": "markdown",
   "id": "bronze-timber",
   "metadata": {},
   "source": [
    "## Data for Mini-Project"
   ]
  },
  {
   "cell_type": "markdown",
   "id": "dominant-planner",
   "metadata": {},
   "source": [
    "## Step 1:"
   ]
  },
  {
   "cell_type": "code",
   "execution_count": 1,
   "id": "pregnant-dominant",
   "metadata": {},
   "outputs": [
    {
     "data": {
      "text/html": [
       "\n",
       "    <div class=\"bk-root\">\n",
       "        <a href=\"https://bokeh.org\" target=\"_blank\" class=\"bk-logo bk-logo-small bk-logo-notebook\"></a>\n",
       "        <span id=\"1001\">Loading BokehJS ...</span>\n",
       "    </div>"
      ]
     },
     "metadata": {},
     "output_type": "display_data"
    },
    {
     "data": {
      "application/javascript": [
       "\n",
       "(function(root) {\n",
       "  function now() {\n",
       "    return new Date();\n",
       "  }\n",
       "\n",
       "  var force = true;\n",
       "\n",
       "  if (typeof root._bokeh_onload_callbacks === \"undefined\" || force === true) {\n",
       "    root._bokeh_onload_callbacks = [];\n",
       "    root._bokeh_is_loading = undefined;\n",
       "  }\n",
       "\n",
       "  var JS_MIME_TYPE = 'application/javascript';\n",
       "  var HTML_MIME_TYPE = 'text/html';\n",
       "  var EXEC_MIME_TYPE = 'application/vnd.bokehjs_exec.v0+json';\n",
       "  var CLASS_NAME = 'output_bokeh rendered_html';\n",
       "\n",
       "  /**\n",
       "   * Render data to the DOM node\n",
       "   */\n",
       "  function render(props, node) {\n",
       "    var script = document.createElement(\"script\");\n",
       "    node.appendChild(script);\n",
       "  }\n",
       "\n",
       "  /**\n",
       "   * Handle when an output is cleared or removed\n",
       "   */\n",
       "  function handleClearOutput(event, handle) {\n",
       "    var cell = handle.cell;\n",
       "\n",
       "    var id = cell.output_area._bokeh_element_id;\n",
       "    var server_id = cell.output_area._bokeh_server_id;\n",
       "    // Clean up Bokeh references\n",
       "    if (id != null && id in Bokeh.index) {\n",
       "      Bokeh.index[id].model.document.clear();\n",
       "      delete Bokeh.index[id];\n",
       "    }\n",
       "\n",
       "    if (server_id !== undefined) {\n",
       "      // Clean up Bokeh references\n",
       "      var cmd = \"from bokeh.io.state import curstate; print(curstate().uuid_to_server['\" + server_id + \"'].get_sessions()[0].document.roots[0]._id)\";\n",
       "      cell.notebook.kernel.execute(cmd, {\n",
       "        iopub: {\n",
       "          output: function(msg) {\n",
       "            var id = msg.content.text.trim();\n",
       "            if (id in Bokeh.index) {\n",
       "              Bokeh.index[id].model.document.clear();\n",
       "              delete Bokeh.index[id];\n",
       "            }\n",
       "          }\n",
       "        }\n",
       "      });\n",
       "      // Destroy server and session\n",
       "      var cmd = \"import bokeh.io.notebook as ion; ion.destroy_server('\" + server_id + \"')\";\n",
       "      cell.notebook.kernel.execute(cmd);\n",
       "    }\n",
       "  }\n",
       "\n",
       "  /**\n",
       "   * Handle when a new output is added\n",
       "   */\n",
       "  function handleAddOutput(event, handle) {\n",
       "    var output_area = handle.output_area;\n",
       "    var output = handle.output;\n",
       "\n",
       "    // limit handleAddOutput to display_data with EXEC_MIME_TYPE content only\n",
       "    if ((output.output_type != \"display_data\") || (!output.data.hasOwnProperty(EXEC_MIME_TYPE))) {\n",
       "      return\n",
       "    }\n",
       "\n",
       "    var toinsert = output_area.element.find(\".\" + CLASS_NAME.split(' ')[0]);\n",
       "\n",
       "    if (output.metadata[EXEC_MIME_TYPE][\"id\"] !== undefined) {\n",
       "      toinsert[toinsert.length - 1].firstChild.textContent = output.data[JS_MIME_TYPE];\n",
       "      // store reference to embed id on output_area\n",
       "      output_area._bokeh_element_id = output.metadata[EXEC_MIME_TYPE][\"id\"];\n",
       "    }\n",
       "    if (output.metadata[EXEC_MIME_TYPE][\"server_id\"] !== undefined) {\n",
       "      var bk_div = document.createElement(\"div\");\n",
       "      bk_div.innerHTML = output.data[HTML_MIME_TYPE];\n",
       "      var script_attrs = bk_div.children[0].attributes;\n",
       "      for (var i = 0; i < script_attrs.length; i++) {\n",
       "        toinsert[toinsert.length - 1].firstChild.setAttribute(script_attrs[i].name, script_attrs[i].value);\n",
       "        toinsert[toinsert.length - 1].firstChild.textContent = bk_div.children[0].textContent\n",
       "      }\n",
       "      // store reference to server id on output_area\n",
       "      output_area._bokeh_server_id = output.metadata[EXEC_MIME_TYPE][\"server_id\"];\n",
       "    }\n",
       "  }\n",
       "\n",
       "  function register_renderer(events, OutputArea) {\n",
       "\n",
       "    function append_mime(data, metadata, element) {\n",
       "      // create a DOM node to render to\n",
       "      var toinsert = this.create_output_subarea(\n",
       "        metadata,\n",
       "        CLASS_NAME,\n",
       "        EXEC_MIME_TYPE\n",
       "      );\n",
       "      this.keyboard_manager.register_events(toinsert);\n",
       "      // Render to node\n",
       "      var props = {data: data, metadata: metadata[EXEC_MIME_TYPE]};\n",
       "      render(props, toinsert[toinsert.length - 1]);\n",
       "      element.append(toinsert);\n",
       "      return toinsert\n",
       "    }\n",
       "\n",
       "    /* Handle when an output is cleared or removed */\n",
       "    events.on('clear_output.CodeCell', handleClearOutput);\n",
       "    events.on('delete.Cell', handleClearOutput);\n",
       "\n",
       "    /* Handle when a new output is added */\n",
       "    events.on('output_added.OutputArea', handleAddOutput);\n",
       "\n",
       "    /**\n",
       "     * Register the mime type and append_mime function with output_area\n",
       "     */\n",
       "    OutputArea.prototype.register_mime_type(EXEC_MIME_TYPE, append_mime, {\n",
       "      /* Is output safe? */\n",
       "      safe: true,\n",
       "      /* Index of renderer in `output_area.display_order` */\n",
       "      index: 0\n",
       "    });\n",
       "  }\n",
       "\n",
       "  // register the mime type if in Jupyter Notebook environment and previously unregistered\n",
       "  if (root.Jupyter !== undefined) {\n",
       "    var events = require('base/js/events');\n",
       "    var OutputArea = require('notebook/js/outputarea').OutputArea;\n",
       "\n",
       "    if (OutputArea.prototype.mime_types().indexOf(EXEC_MIME_TYPE) == -1) {\n",
       "      register_renderer(events, OutputArea);\n",
       "    }\n",
       "  }\n",
       "\n",
       "  \n",
       "  if (typeof (root._bokeh_timeout) === \"undefined\" || force === true) {\n",
       "    root._bokeh_timeout = Date.now() + 5000;\n",
       "    root._bokeh_failed_load = false;\n",
       "  }\n",
       "\n",
       "  var NB_LOAD_WARNING = {'data': {'text/html':\n",
       "     \"<div style='background-color: #fdd'>\\n\"+\n",
       "     \"<p>\\n\"+\n",
       "     \"BokehJS does not appear to have successfully loaded. If loading BokehJS from CDN, this \\n\"+\n",
       "     \"may be due to a slow or bad network connection. Possible fixes:\\n\"+\n",
       "     \"</p>\\n\"+\n",
       "     \"<ul>\\n\"+\n",
       "     \"<li>re-rerun `output_notebook()` to attempt to load from CDN again, or</li>\\n\"+\n",
       "     \"<li>use INLINE resources instead, as so:</li>\\n\"+\n",
       "     \"</ul>\\n\"+\n",
       "     \"<code>\\n\"+\n",
       "     \"from bokeh.resources import INLINE\\n\"+\n",
       "     \"output_notebook(resources=INLINE)\\n\"+\n",
       "     \"</code>\\n\"+\n",
       "     \"</div>\"}};\n",
       "\n",
       "  function display_loaded() {\n",
       "    var el = document.getElementById(\"1001\");\n",
       "    if (el != null) {\n",
       "      el.textContent = \"BokehJS is loading...\";\n",
       "    }\n",
       "    if (root.Bokeh !== undefined) {\n",
       "      if (el != null) {\n",
       "        el.textContent = \"BokehJS \" + root.Bokeh.version + \" successfully loaded.\";\n",
       "      }\n",
       "    } else if (Date.now() < root._bokeh_timeout) {\n",
       "      setTimeout(display_loaded, 100)\n",
       "    }\n",
       "  }\n",
       "\n",
       "\n",
       "  function run_callbacks() {\n",
       "    try {\n",
       "      root._bokeh_onload_callbacks.forEach(function(callback) {\n",
       "        if (callback != null)\n",
       "          callback();\n",
       "      });\n",
       "    } finally {\n",
       "      delete root._bokeh_onload_callbacks\n",
       "    }\n",
       "    console.debug(\"Bokeh: all callbacks have finished\");\n",
       "  }\n",
       "\n",
       "  function load_libs(css_urls, js_urls, callback) {\n",
       "    if (css_urls == null) css_urls = [];\n",
       "    if (js_urls == null) js_urls = [];\n",
       "\n",
       "    root._bokeh_onload_callbacks.push(callback);\n",
       "    if (root._bokeh_is_loading > 0) {\n",
       "      console.debug(\"Bokeh: BokehJS is being loaded, scheduling callback at\", now());\n",
       "      return null;\n",
       "    }\n",
       "    if (js_urls == null || js_urls.length === 0) {\n",
       "      run_callbacks();\n",
       "      return null;\n",
       "    }\n",
       "    console.debug(\"Bokeh: BokehJS not loaded, scheduling load and callback at\", now());\n",
       "    root._bokeh_is_loading = css_urls.length + js_urls.length;\n",
       "\n",
       "    function on_load() {\n",
       "      root._bokeh_is_loading--;\n",
       "      if (root._bokeh_is_loading === 0) {\n",
       "        console.debug(\"Bokeh: all BokehJS libraries/stylesheets loaded\");\n",
       "        run_callbacks()\n",
       "      }\n",
       "    }\n",
       "\n",
       "    function on_error() {\n",
       "      console.error(\"failed to load \" + url);\n",
       "    }\n",
       "\n",
       "    for (var i = 0; i < css_urls.length; i++) {\n",
       "      var url = css_urls[i];\n",
       "      const element = document.createElement(\"link\");\n",
       "      element.onload = on_load;\n",
       "      element.onerror = on_error;\n",
       "      element.rel = \"stylesheet\";\n",
       "      element.type = \"text/css\";\n",
       "      element.href = url;\n",
       "      console.debug(\"Bokeh: injecting link tag for BokehJS stylesheet: \", url);\n",
       "      document.body.appendChild(element);\n",
       "    }\n",
       "\n",
       "    const hashes = {\"https://cdn.bokeh.org/bokeh/release/bokeh-2.2.3.min.js\": \"T2yuo9Oe71Cz/I4X9Ac5+gpEa5a8PpJCDlqKYO0CfAuEszu1JrXLl8YugMqYe3sM\", \"https://cdn.bokeh.org/bokeh/release/bokeh-widgets-2.2.3.min.js\": \"98GDGJ0kOMCUMUePhksaQ/GYgB3+NH9h996V88sh3aOiUNX3N+fLXAtry6xctSZ6\", \"https://cdn.bokeh.org/bokeh/release/bokeh-tables-2.2.3.min.js\": \"89bArO+nlbP3sgakeHjCo1JYxYR5wufVgA3IbUvDY+K7w4zyxJqssu7wVnfeKCq8\"};\n",
       "\n",
       "    for (var i = 0; i < js_urls.length; i++) {\n",
       "      var url = js_urls[i];\n",
       "      var element = document.createElement('script');\n",
       "      element.onload = on_load;\n",
       "      element.onerror = on_error;\n",
       "      element.async = false;\n",
       "      element.src = url;\n",
       "      if (url in hashes) {\n",
       "        element.crossOrigin = \"anonymous\";\n",
       "        element.integrity = \"sha384-\" + hashes[url];\n",
       "      }\n",
       "      console.debug(\"Bokeh: injecting script tag for BokehJS library: \", url);\n",
       "      document.head.appendChild(element);\n",
       "    }\n",
       "  };\n",
       "\n",
       "  function inject_raw_css(css) {\n",
       "    const element = document.createElement(\"style\");\n",
       "    element.appendChild(document.createTextNode(css));\n",
       "    document.body.appendChild(element);\n",
       "  }\n",
       "\n",
       "  \n",
       "  var js_urls = [\"https://cdn.bokeh.org/bokeh/release/bokeh-2.2.3.min.js\", \"https://cdn.bokeh.org/bokeh/release/bokeh-widgets-2.2.3.min.js\", \"https://cdn.bokeh.org/bokeh/release/bokeh-tables-2.2.3.min.js\"];\n",
       "  var css_urls = [];\n",
       "  \n",
       "\n",
       "  var inline_js = [\n",
       "    function(Bokeh) {\n",
       "      Bokeh.set_log_level(\"info\");\n",
       "    },\n",
       "    function(Bokeh) {\n",
       "    \n",
       "    \n",
       "    }\n",
       "  ];\n",
       "\n",
       "  function run_inline_js() {\n",
       "    \n",
       "    if (root.Bokeh !== undefined || force === true) {\n",
       "      \n",
       "    for (var i = 0; i < inline_js.length; i++) {\n",
       "      inline_js[i].call(root, root.Bokeh);\n",
       "    }\n",
       "    if (force === true) {\n",
       "        display_loaded();\n",
       "      }} else if (Date.now() < root._bokeh_timeout) {\n",
       "      setTimeout(run_inline_js, 100);\n",
       "    } else if (!root._bokeh_failed_load) {\n",
       "      console.log(\"Bokeh: BokehJS failed to load within specified timeout.\");\n",
       "      root._bokeh_failed_load = true;\n",
       "    } else if (force !== true) {\n",
       "      var cell = $(document.getElementById(\"1001\")).parents('.cell').data().cell;\n",
       "      cell.output_area.append_execute_result(NB_LOAD_WARNING)\n",
       "    }\n",
       "\n",
       "  }\n",
       "\n",
       "  if (root._bokeh_is_loading === 0) {\n",
       "    console.debug(\"Bokeh: BokehJS loaded, going straight to plotting\");\n",
       "    run_inline_js();\n",
       "  } else {\n",
       "    load_libs(css_urls, js_urls, function() {\n",
       "      console.debug(\"Bokeh: BokehJS plotting callback run at\", now());\n",
       "      run_inline_js();\n",
       "    });\n",
       "  }\n",
       "}(window));"
      ],
      "application/vnd.bokehjs_load.v0+json": "\n(function(root) {\n  function now() {\n    return new Date();\n  }\n\n  var force = true;\n\n  if (typeof root._bokeh_onload_callbacks === \"undefined\" || force === true) {\n    root._bokeh_onload_callbacks = [];\n    root._bokeh_is_loading = undefined;\n  }\n\n  \n\n  \n  if (typeof (root._bokeh_timeout) === \"undefined\" || force === true) {\n    root._bokeh_timeout = Date.now() + 5000;\n    root._bokeh_failed_load = false;\n  }\n\n  var NB_LOAD_WARNING = {'data': {'text/html':\n     \"<div style='background-color: #fdd'>\\n\"+\n     \"<p>\\n\"+\n     \"BokehJS does not appear to have successfully loaded. If loading BokehJS from CDN, this \\n\"+\n     \"may be due to a slow or bad network connection. Possible fixes:\\n\"+\n     \"</p>\\n\"+\n     \"<ul>\\n\"+\n     \"<li>re-rerun `output_notebook()` to attempt to load from CDN again, or</li>\\n\"+\n     \"<li>use INLINE resources instead, as so:</li>\\n\"+\n     \"</ul>\\n\"+\n     \"<code>\\n\"+\n     \"from bokeh.resources import INLINE\\n\"+\n     \"output_notebook(resources=INLINE)\\n\"+\n     \"</code>\\n\"+\n     \"</div>\"}};\n\n  function display_loaded() {\n    var el = document.getElementById(\"1001\");\n    if (el != null) {\n      el.textContent = \"BokehJS is loading...\";\n    }\n    if (root.Bokeh !== undefined) {\n      if (el != null) {\n        el.textContent = \"BokehJS \" + root.Bokeh.version + \" successfully loaded.\";\n      }\n    } else if (Date.now() < root._bokeh_timeout) {\n      setTimeout(display_loaded, 100)\n    }\n  }\n\n\n  function run_callbacks() {\n    try {\n      root._bokeh_onload_callbacks.forEach(function(callback) {\n        if (callback != null)\n          callback();\n      });\n    } finally {\n      delete root._bokeh_onload_callbacks\n    }\n    console.debug(\"Bokeh: all callbacks have finished\");\n  }\n\n  function load_libs(css_urls, js_urls, callback) {\n    if (css_urls == null) css_urls = [];\n    if (js_urls == null) js_urls = [];\n\n    root._bokeh_onload_callbacks.push(callback);\n    if (root._bokeh_is_loading > 0) {\n      console.debug(\"Bokeh: BokehJS is being loaded, scheduling callback at\", now());\n      return null;\n    }\n    if (js_urls == null || js_urls.length === 0) {\n      run_callbacks();\n      return null;\n    }\n    console.debug(\"Bokeh: BokehJS not loaded, scheduling load and callback at\", now());\n    root._bokeh_is_loading = css_urls.length + js_urls.length;\n\n    function on_load() {\n      root._bokeh_is_loading--;\n      if (root._bokeh_is_loading === 0) {\n        console.debug(\"Bokeh: all BokehJS libraries/stylesheets loaded\");\n        run_callbacks()\n      }\n    }\n\n    function on_error() {\n      console.error(\"failed to load \" + url);\n    }\n\n    for (var i = 0; i < css_urls.length; i++) {\n      var url = css_urls[i];\n      const element = document.createElement(\"link\");\n      element.onload = on_load;\n      element.onerror = on_error;\n      element.rel = \"stylesheet\";\n      element.type = \"text/css\";\n      element.href = url;\n      console.debug(\"Bokeh: injecting link tag for BokehJS stylesheet: \", url);\n      document.body.appendChild(element);\n    }\n\n    const hashes = {\"https://cdn.bokeh.org/bokeh/release/bokeh-2.2.3.min.js\": \"T2yuo9Oe71Cz/I4X9Ac5+gpEa5a8PpJCDlqKYO0CfAuEszu1JrXLl8YugMqYe3sM\", \"https://cdn.bokeh.org/bokeh/release/bokeh-widgets-2.2.3.min.js\": \"98GDGJ0kOMCUMUePhksaQ/GYgB3+NH9h996V88sh3aOiUNX3N+fLXAtry6xctSZ6\", \"https://cdn.bokeh.org/bokeh/release/bokeh-tables-2.2.3.min.js\": \"89bArO+nlbP3sgakeHjCo1JYxYR5wufVgA3IbUvDY+K7w4zyxJqssu7wVnfeKCq8\"};\n\n    for (var i = 0; i < js_urls.length; i++) {\n      var url = js_urls[i];\n      var element = document.createElement('script');\n      element.onload = on_load;\n      element.onerror = on_error;\n      element.async = false;\n      element.src = url;\n      if (url in hashes) {\n        element.crossOrigin = \"anonymous\";\n        element.integrity = \"sha384-\" + hashes[url];\n      }\n      console.debug(\"Bokeh: injecting script tag for BokehJS library: \", url);\n      document.head.appendChild(element);\n    }\n  };\n\n  function inject_raw_css(css) {\n    const element = document.createElement(\"style\");\n    element.appendChild(document.createTextNode(css));\n    document.body.appendChild(element);\n  }\n\n  \n  var js_urls = [\"https://cdn.bokeh.org/bokeh/release/bokeh-2.2.3.min.js\", \"https://cdn.bokeh.org/bokeh/release/bokeh-widgets-2.2.3.min.js\", \"https://cdn.bokeh.org/bokeh/release/bokeh-tables-2.2.3.min.js\"];\n  var css_urls = [];\n  \n\n  var inline_js = [\n    function(Bokeh) {\n      Bokeh.set_log_level(\"info\");\n    },\n    function(Bokeh) {\n    \n    \n    }\n  ];\n\n  function run_inline_js() {\n    \n    if (root.Bokeh !== undefined || force === true) {\n      \n    for (var i = 0; i < inline_js.length; i++) {\n      inline_js[i].call(root, root.Bokeh);\n    }\n    if (force === true) {\n        display_loaded();\n      }} else if (Date.now() < root._bokeh_timeout) {\n      setTimeout(run_inline_js, 100);\n    } else if (!root._bokeh_failed_load) {\n      console.log(\"Bokeh: BokehJS failed to load within specified timeout.\");\n      root._bokeh_failed_load = true;\n    } else if (force !== true) {\n      var cell = $(document.getElementById(\"1001\")).parents('.cell').data().cell;\n      cell.output_area.append_execute_result(NB_LOAD_WARNING)\n    }\n\n  }\n\n  if (root._bokeh_is_loading === 0) {\n    console.debug(\"Bokeh: BokehJS loaded, going straight to plotting\");\n    run_inline_js();\n  } else {\n    load_libs(css_urls, js_urls, function() {\n      console.debug(\"Bokeh: BokehJS plotting callback run at\", now());\n      run_inline_js();\n    });\n  }\n}(window));"
     },
     "metadata": {},
     "output_type": "display_data"
    }
   ],
   "source": [
    "import pathlib\n",
    "import matplotlib.pyplot as plt\n",
    "import numpy as np\n",
    "import pandas as pd\n",
    "import tensorflow as tf\n",
    "pd.options.display.float_format = '{:,.4f}'.format\n",
    "import seaborn as sns\n",
    "sns.set_style('whitegrid')\n",
    "pd.set_option('display.max_columns', None)\n",
    "\n",
    "from bokeh.layouts import gridplot, column\n",
    "from bokeh.models import (BasicTicker, ColorBar, ColumnDataSource, \n",
    "                          HoverTool, LabelSet, LinearColorMapper, NumeralTickFormatter)\n",
    "from bokeh.palettes import brewer, RdBu, Reds\n",
    "from bokeh.plotting import figure, show, output_notebook\n",
    "from bokeh.transform import transform\n",
    "\n",
    "%config Completer.use_jedi = False\n",
    "output_notebook()"
   ]
  },
  {
   "cell_type": "markdown",
   "id": "filled-failing",
   "metadata": {},
   "source": [
    "https://www.kaggle.com/adammaus/predicting-churn-for-bank-customers?select=Churn_Modelling.csv"
   ]
  },
  {
   "cell_type": "code",
   "execution_count": 2,
   "id": "different-telling",
   "metadata": {},
   "outputs": [],
   "source": [
    "data_path = pathlib.Path('data', 'train.csv')\n",
    "data = pd.read_csv(data_path)"
   ]
  },
  {
   "cell_type": "code",
   "execution_count": 3,
   "id": "equal-pantyhose",
   "metadata": {},
   "outputs": [
    {
     "name": "stdout",
     "output_type": "stream",
     "text": [
      " Geography: ['Germany' 'France' 'Spain']\n",
      " Gender: ['Female' 'Male']\n",
      " NumOfProducts: [1 2 3 4]\n",
      " HasCrCard: [1 0]\n",
      " IsActiveMember: [1 0]\n",
      " Exited: [0 1]\n"
     ]
    }
   ],
   "source": [
    "for col in data.columns:\n",
    "        if data[col].nunique() < 10:\n",
    "                print(f' {col}: {data[col].unique()}')"
   ]
  },
  {
   "cell_type": "code",
   "execution_count": 4,
   "id": "stunning-manitoba",
   "metadata": {},
   "outputs": [],
   "source": [
    "cols_to_consider = ['Geography', 'Gender']\n",
    "for col in cols_to_consider:\n",
    "    data= pd.concat([data,pd.get_dummies(data[col])], axis = 1)\n",
    "    data =  data.drop(columns= [col])\n",
    "    "
   ]
  },
  {
   "cell_type": "markdown",
   "id": "ancient-communications",
   "metadata": {},
   "source": [
    "Does it matter where Exited is in the database?"
   ]
  },
  {
   "cell_type": "code",
   "execution_count": 31,
   "id": "studied-commander",
   "metadata": {},
   "outputs": [
    {
     "data": {
      "text/plain": [
       "dict_keys(['CreditScore', 'Age', 'Tenure', 'Balance', 'NumOfProducts', 'HasCrCard', 'IsActiveMember', 'EstimatedSalary', 'France', 'Germany', 'Spain', 'Female', 'Male'])"
      ]
     },
     "execution_count": 31,
     "metadata": {},
     "output_type": "execute_result"
    }
   ],
   "source": [
    "target = 'Exited'\n",
    "feature = [col for col in data.columns if col != target]\n",
    "data.loc[0, feature].to_dict().keys()"
   ]
  },
  {
   "cell_type": "code",
   "execution_count": 30,
   "id": "original-classification",
   "metadata": {},
   "outputs": [
    {
     "data": {
      "text/plain": [
       "Index(['CreditScore', 'Age', 'Tenure', 'Balance', 'NumOfProducts', 'HasCrCard',\n",
       "       'IsActiveMember', 'EstimatedSalary', 'Exited', 'France', 'Germany',\n",
       "       'Spain', 'Female', 'Male'],\n",
       "      dtype='object')"
      ]
     },
     "execution_count": 30,
     "metadata": {},
     "output_type": "execute_result"
    }
   ],
   "source": [
    "data.keys()"
   ]
  },
  {
   "cell_type": "markdown",
   "id": "furnished-seminar",
   "metadata": {},
   "source": [
    "## Step 2:"
   ]
  },
  {
   "cell_type": "code",
   "execution_count": 6,
   "id": "wrapped-yacht",
   "metadata": {},
   "outputs": [],
   "source": [
    "import json\n",
    "from sklearn import preprocessing\n",
    "\n",
    "scaler = preprocessing.StandardScaler()\n",
    "scaled_data = scaler.fit(data[feature])\n",
    "scaled_data = scaler.fit_transform(data[feature])\n",
    "scaled_data = pd.DataFrame(scaled_data, columns = feature)\n",
    "scaled_data[target] = data[target]\n",
    "\n",
    "scaler_means = {key: val for key, val in zip(feature, scaler.mean_)}\n",
    "scaler_sigmas = {key: val for key, val in zip(feature, scaler.scale_)}\n",
    "\n",
    "with open('scaler_means.json', 'w') as fout: \n",
    "    json.dump(scaler_means, fout)\n",
    "    \n",
    "with open('scaler_sigmas.json', 'w') as fout: \n",
    "    json.dump(scaler_sigmas, fout)"
   ]
  },
  {
   "cell_type": "code",
   "execution_count": 7,
   "id": "specialized-patent",
   "metadata": {},
   "outputs": [],
   "source": [
    "def plot_confusion_matrix(y_true, y_predicted):\n",
    "    \n",
    "    from sklearn import metrics\n",
    "    \n",
    "    accuracy = np.round(100*(y_true == y_predicted).astype(int).sum()/len(y_predicted), 2)\n",
    "    \n",
    "    confusion = pd.DataFrame(metrics.confusion_matrix(y_true, y_predicted))\n",
    "    confusion.index.name = \"True\"\n",
    "    confusion.columns.name = \"Predicted\"\n",
    "    confusion = confusion.stack().rename(\"value\").reset_index()\n",
    "    confusion['True'] = confusion['True'].astype(str)\n",
    "    confusion['Predicted'] = confusion['Predicted'].astype(str)\n",
    "\n",
    "    source = ColumnDataSource(confusion)\n",
    "\n",
    "    values = sorted(list(confusion['True'].unique()))\n",
    "\n",
    "    palette = brewer['RdBu'][10]\n",
    "    color_mapper = LinearColorMapper(\n",
    "        palette = palette, \n",
    "    )\n",
    "\n",
    "    p = figure(\n",
    "        plot_width = 300, \n",
    "        plot_height = 300, \n",
    "        title = f'Confusion Matrix: Overall accuracy = {accuracy}%',\n",
    "        x_range = ['0', '1'], \n",
    "        y_range = ['0', '1'],\n",
    "        x_axis_label = 'Predicted',\n",
    "        y_axis_label = 'True',\n",
    "        tools = 'hover', \n",
    "        x_axis_location=\"below\",\n",
    "    )\n",
    "\n",
    "    p.rect(\n",
    "        x = 'Predicted', \n",
    "        y = 'True', \n",
    "        width = 1, \n",
    "        height = 1, \n",
    "        source = source,\n",
    "        line_color = 'grey', \n",
    "        fill_color = transform('value', color_mapper),\n",
    "    )\n",
    "\n",
    "    hover = p.hover.tooltips = [\n",
    "        (\"True\", \"@{True}\"),\n",
    "        (\"Predicted\", \"@{Predicted}\"),\n",
    "        (\"Count\", \"@value\"),\n",
    "    ]\n",
    "\n",
    "    p.axis.axis_line_color = None\n",
    "    p.axis.major_tick_line_color = None\n",
    "    p.axis.major_label_text_font_size = \"14px\"\n",
    "    p.axis.major_label_standoff = 0\n",
    "    p.xaxis.major_label_orientation = 1.0\n",
    "    \n",
    "    labels = LabelSet(x='Predicted', y='True', text='value',\n",
    "                      render_mode='canvas', text_color = 'white',\n",
    "                      x_offset = 50, y_offset = 50, source=source,)\n",
    "\n",
    "    p.add_layout(labels)\n",
    "\n",
    "    show(p)"
   ]
  },
  {
   "cell_type": "code",
   "execution_count": 8,
   "id": "deluxe-array",
   "metadata": {},
   "outputs": [],
   "source": [
    "from sklearn.model_selection import train_test_split\n",
    "train, test = train_test_split(scaled_data, stratify = scaled_data[target], random_state = 0)\n",
    "x_train, y_train = train[feature], train[target]\n",
    "x_test, y_test = test[feature], test[target]"
   ]
  },
  {
   "cell_type": "markdown",
   "id": "quick-snake",
   "metadata": {},
   "source": [
    "# Possible Models:"
   ]
  },
  {
   "cell_type": "markdown",
   "id": "beautiful-evidence",
   "metadata": {},
   "source": [
    "## Linear Regression:"
   ]
  },
  {
   "cell_type": "code",
   "execution_count": 9,
   "id": "amber-popularity",
   "metadata": {},
   "outputs": [],
   "source": [
    "model_dic= {}"
   ]
  },
  {
   "cell_type": "code",
   "execution_count": 10,
   "id": "compatible-climb",
   "metadata": {},
   "outputs": [
    {
     "data": {
      "text/html": [
       "\n",
       "\n",
       "\n",
       "\n",
       "\n",
       "\n",
       "  <div class=\"bk-root\" id=\"4df70b68-3135-49e3-8b8a-8813908f600f\" data-root-id=\"1004\"></div>\n"
      ]
     },
     "metadata": {},
     "output_type": "display_data"
    },
    {
     "data": {
      "application/javascript": [
       "(function(root) {\n",
       "  function embed_document(root) {\n",
       "    \n",
       "  var docs_json = {\"5e861235-84b9-46e8-b07c-d47eb6eddde5\":{\"roots\":{\"references\":[{\"attributes\":{\"below\":[{\"id\":\"1015\"}],\"center\":[{\"id\":\"1017\"},{\"id\":\"1020\"},{\"id\":\"1030\"}],\"left\":[{\"id\":\"1018\"}],\"plot_height\":300,\"plot_width\":300,\"renderers\":[{\"id\":\"1027\"}],\"title\":{\"id\":\"1005\"},\"toolbar\":{\"id\":\"1022\"},\"x_range\":{\"id\":\"1007\"},\"x_scale\":{\"id\":\"1011\"},\"y_range\":{\"id\":\"1009\"},\"y_scale\":{\"id\":\"1013\"}},\"id\":\"1004\",\"subtype\":\"Figure\",\"type\":\"Plot\"},{\"attributes\":{\"fill_alpha\":{\"value\":0.1},\"fill_color\":{\"field\":\"value\",\"transform\":{\"id\":\"1003\"}},\"height\":{\"units\":\"data\",\"value\":1},\"line_alpha\":{\"value\":0.1},\"line_color\":{\"value\":\"grey\"},\"width\":{\"units\":\"data\",\"value\":1},\"x\":{\"field\":\"Predicted\"},\"y\":{\"field\":\"True\"}},\"id\":\"1026\",\"type\":\"Rect\"},{\"attributes\":{\"source\":{\"id\":\"1002\"}},\"id\":\"1028\",\"type\":\"CDSView\"},{\"attributes\":{},\"id\":\"1013\",\"type\":\"CategoricalScale\"},{\"attributes\":{\"source\":{\"id\":\"1002\"},\"text\":{\"field\":\"value\"},\"text_color\":{\"value\":\"white\"},\"x\":{\"field\":\"Predicted\"},\"x_offset\":{\"value\":50},\"y\":{\"field\":\"True\"},\"y_offset\":{\"value\":50}},\"id\":\"1030\",\"type\":\"LabelSet\"},{\"attributes\":{\"axis\":{\"id\":\"1015\"},\"ticker\":null},\"id\":\"1017\",\"type\":\"Grid\"},{\"attributes\":{},\"id\":\"1036\",\"type\":\"CategoricalTickFormatter\"},{\"attributes\":{\"data_source\":{\"id\":\"1002\"},\"glyph\":{\"id\":\"1025\"},\"hover_glyph\":null,\"muted_glyph\":null,\"nonselection_glyph\":{\"id\":\"1026\"},\"selection_glyph\":null,\"view\":{\"id\":\"1028\"}},\"id\":\"1027\",\"type\":\"GlyphRenderer\"},{\"attributes\":{\"palette\":[\"#053061\",\"#2166ac\",\"#4393c3\",\"#92c5de\",\"#d1e5f0\",\"#fddbc7\",\"#f4a582\",\"#d6604d\",\"#b2182b\",\"#67001f\"]},\"id\":\"1003\",\"type\":\"LinearColorMapper\"},{\"attributes\":{\"fill_color\":{\"field\":\"value\",\"transform\":{\"id\":\"1003\"}},\"height\":{\"units\":\"data\",\"value\":1},\"line_color\":{\"value\":\"grey\"},\"width\":{\"units\":\"data\",\"value\":1},\"x\":{\"field\":\"Predicted\"},\"y\":{\"field\":\"True\"}},\"id\":\"1025\",\"type\":\"Rect\"},{\"attributes\":{\"callback\":null,\"tooltips\":[[\"True\",\"@{True}\"],[\"Predicted\",\"@{Predicted}\"],[\"Count\",\"@value\"]]},\"id\":\"1021\",\"type\":\"HoverTool\"},{\"attributes\":{\"active_drag\":\"auto\",\"active_inspect\":\"auto\",\"active_multi\":null,\"active_scroll\":\"auto\",\"active_tap\":\"auto\",\"tools\":[{\"id\":\"1021\"}]},\"id\":\"1022\",\"type\":\"Toolbar\"},{\"attributes\":{},\"id\":\"1034\",\"type\":\"CategoricalTickFormatter\"},{\"attributes\":{\"data\":{\"Predicted\":[\"0\",\"1\",\"0\",\"1\"],\"True\":[\"0\",\"0\",\"1\",\"1\"],\"index\":[0,1,2,3],\"value\":[1953,32,443,65]},\"selected\":{\"id\":\"1037\"},\"selection_policy\":{\"id\":\"1038\"}},\"id\":\"1002\",\"type\":\"ColumnDataSource\"},{\"attributes\":{},\"id\":\"1011\",\"type\":\"CategoricalScale\"},{\"attributes\":{},\"id\":\"1037\",\"type\":\"Selection\"},{\"attributes\":{},\"id\":\"1038\",\"type\":\"UnionRenderers\"},{\"attributes\":{\"factors\":[\"0\",\"1\"]},\"id\":\"1009\",\"type\":\"FactorRange\"},{\"attributes\":{},\"id\":\"1016\",\"type\":\"CategoricalTicker\"},{\"attributes\":{\"axis_label\":\"True\",\"axis_line_color\":null,\"formatter\":{\"id\":\"1034\"},\"major_label_standoff\":0,\"major_label_text_font_size\":\"14px\",\"major_tick_line_color\":null,\"ticker\":{\"id\":\"1019\"}},\"id\":\"1018\",\"type\":\"CategoricalAxis\"},{\"attributes\":{\"axis_label\":\"Predicted\",\"axis_line_color\":null,\"formatter\":{\"id\":\"1036\"},\"major_label_orientation\":1.0,\"major_label_standoff\":0,\"major_label_text_font_size\":\"14px\",\"major_tick_line_color\":null,\"ticker\":{\"id\":\"1016\"}},\"id\":\"1015\",\"type\":\"CategoricalAxis\"},{\"attributes\":{\"axis\":{\"id\":\"1018\"},\"dimension\":1,\"ticker\":null},\"id\":\"1020\",\"type\":\"Grid\"},{\"attributes\":{\"text\":\"Confusion Matrix: Overall accuracy = 80.95%\"},\"id\":\"1005\",\"type\":\"Title\"},{\"attributes\":{\"factors\":[\"0\",\"1\"]},\"id\":\"1007\",\"type\":\"FactorRange\"},{\"attributes\":{},\"id\":\"1019\",\"type\":\"CategoricalTicker\"}],\"root_ids\":[\"1004\"]},\"title\":\"Bokeh Application\",\"version\":\"2.2.3\"}};\n",
       "  var render_items = [{\"docid\":\"5e861235-84b9-46e8-b07c-d47eb6eddde5\",\"root_ids\":[\"1004\"],\"roots\":{\"1004\":\"4df70b68-3135-49e3-8b8a-8813908f600f\"}}];\n",
       "  root.Bokeh.embed.embed_items_notebook(docs_json, render_items);\n",
       "\n",
       "  }\n",
       "  if (root.Bokeh !== undefined) {\n",
       "    embed_document(root);\n",
       "  } else {\n",
       "    var attempts = 0;\n",
       "    var timer = setInterval(function(root) {\n",
       "      if (root.Bokeh !== undefined) {\n",
       "        clearInterval(timer);\n",
       "        embed_document(root);\n",
       "      } else {\n",
       "        attempts++;\n",
       "        if (attempts > 100) {\n",
       "          clearInterval(timer);\n",
       "          console.log(\"Bokeh: ERROR: Unable to run BokehJS code because BokehJS library is missing\");\n",
       "        }\n",
       "      }\n",
       "    }, 10, root)\n",
       "  }\n",
       "})(window);"
      ],
      "application/vnd.bokehjs_exec.v0+json": ""
     },
     "metadata": {
      "application/vnd.bokehjs_exec.v0+json": {
       "id": "1004"
      }
     },
     "output_type": "display_data"
    }
   ],
   "source": [
    "import statsmodels.formula.api as smf\n",
    "\n",
    "formula = f\"{target} ~ {' + '.join(feature)}\"\n",
    "\n",
    "model = smf.ols(\n",
    "    formula = formula, \n",
    "    data = train)\n",
    "\n",
    "fit_model = model.fit()\n",
    "\n",
    "#fit_model.summary()\n",
    "\n",
    "\n",
    "predictions = fit_model.predict(test[feature])\n",
    "\n",
    "predictions =(predictions > 0.5).astype(int)\n",
    " \n",
    "plot_confusion_matrix(y_test.values, predictions.values)"
   ]
  },
  {
   "cell_type": "code",
   "execution_count": 11,
   "id": "interstate-witness",
   "metadata": {},
   "outputs": [],
   "source": [
    "score = fit_model.rsquared\n",
    "\n",
    "model_dic['Linear Regression']= score"
   ]
  },
  {
   "cell_type": "markdown",
   "id": "piano-catholic",
   "metadata": {},
   "source": [
    "## Logistic Regression"
   ]
  },
  {
   "cell_type": "code",
   "execution_count": 12,
   "id": "desperate-portable",
   "metadata": {},
   "outputs": [],
   "source": [
    "from sklearn.linear_model import LogisticRegression\n",
    "clf = LogisticRegression(random_state=0, solver = 'newton-cg')\n",
    "\n",
    "clf = clf.fit(x_train, y_train)\n",
    "\n",
    "score = clf.score(x_test, y_test)\n"
   ]
  },
  {
   "cell_type": "code",
   "execution_count": 13,
   "id": "exceptional-syria",
   "metadata": {},
   "outputs": [
    {
     "data": {
      "text/html": [
       "\n",
       "\n",
       "\n",
       "\n",
       "\n",
       "\n",
       "  <div class=\"bk-root\" id=\"478891ca-7750-44f4-98ee-25c65fe9598b\" data-root-id=\"1076\"></div>\n"
      ]
     },
     "metadata": {},
     "output_type": "display_data"
    },
    {
     "data": {
      "application/javascript": [
       "(function(root) {\n",
       "  function embed_document(root) {\n",
       "    \n",
       "  var docs_json = {\"89500049-49ad-424d-8a00-3615152c5ba0\":{\"roots\":{\"references\":[{\"attributes\":{\"below\":[{\"id\":\"1087\"}],\"center\":[{\"id\":\"1089\"},{\"id\":\"1092\"},{\"id\":\"1102\"}],\"left\":[{\"id\":\"1090\"}],\"plot_height\":300,\"plot_width\":300,\"renderers\":[{\"id\":\"1099\"}],\"title\":{\"id\":\"1077\"},\"toolbar\":{\"id\":\"1094\"},\"x_range\":{\"id\":\"1079\"},\"x_scale\":{\"id\":\"1083\"},\"y_range\":{\"id\":\"1081\"},\"y_scale\":{\"id\":\"1085\"}},\"id\":\"1076\",\"subtype\":\"Figure\",\"type\":\"Plot\"},{\"attributes\":{},\"id\":\"1115\",\"type\":\"CategoricalTickFormatter\"},{\"attributes\":{\"palette\":[\"#053061\",\"#2166ac\",\"#4393c3\",\"#92c5de\",\"#d1e5f0\",\"#fddbc7\",\"#f4a582\",\"#d6604d\",\"#b2182b\",\"#67001f\"]},\"id\":\"1075\",\"type\":\"LinearColorMapper\"},{\"attributes\":{\"axis_label\":\"Predicted\",\"axis_line_color\":null,\"formatter\":{\"id\":\"1115\"},\"major_label_orientation\":1.0,\"major_label_standoff\":0,\"major_label_text_font_size\":\"14px\",\"major_tick_line_color\":null,\"ticker\":{\"id\":\"1088\"}},\"id\":\"1087\",\"type\":\"CategoricalAxis\"},{\"attributes\":{\"axis\":{\"id\":\"1090\"},\"dimension\":1,\"ticker\":null},\"id\":\"1092\",\"type\":\"Grid\"},{\"attributes\":{\"source\":{\"id\":\"1074\"},\"text\":{\"field\":\"value\"},\"text_color\":{\"value\":\"white\"},\"x\":{\"field\":\"Predicted\"},\"x_offset\":{\"value\":50},\"y\":{\"field\":\"True\"},\"y_offset\":{\"value\":50}},\"id\":\"1102\",\"type\":\"LabelSet\"},{\"attributes\":{\"fill_alpha\":{\"value\":0.1},\"fill_color\":{\"field\":\"value\",\"transform\":{\"id\":\"1075\"}},\"height\":{\"units\":\"data\",\"value\":1},\"line_alpha\":{\"value\":0.1},\"line_color\":{\"value\":\"grey\"},\"width\":{\"units\":\"data\",\"value\":1},\"x\":{\"field\":\"Predicted\"},\"y\":{\"field\":\"True\"}},\"id\":\"1098\",\"type\":\"Rect\"},{\"attributes\":{\"axis\":{\"id\":\"1087\"},\"ticker\":null},\"id\":\"1089\",\"type\":\"Grid\"},{\"attributes\":{\"source\":{\"id\":\"1074\"}},\"id\":\"1100\",\"type\":\"CDSView\"},{\"attributes\":{\"data_source\":{\"id\":\"1074\"},\"glyph\":{\"id\":\"1097\"},\"hover_glyph\":null,\"muted_glyph\":null,\"nonselection_glyph\":{\"id\":\"1098\"},\"selection_glyph\":null,\"view\":{\"id\":\"1100\"}},\"id\":\"1099\",\"type\":\"GlyphRenderer\"},{\"attributes\":{\"axis_label\":\"True\",\"axis_line_color\":null,\"formatter\":{\"id\":\"1113\"},\"major_label_standoff\":0,\"major_label_text_font_size\":\"14px\",\"major_tick_line_color\":null,\"ticker\":{\"id\":\"1091\"}},\"id\":\"1090\",\"type\":\"CategoricalAxis\"},{\"attributes\":{},\"id\":\"1088\",\"type\":\"CategoricalTicker\"},{\"attributes\":{\"fill_color\":{\"field\":\"value\",\"transform\":{\"id\":\"1075\"}},\"height\":{\"units\":\"data\",\"value\":1},\"line_color\":{\"value\":\"grey\"},\"width\":{\"units\":\"data\",\"value\":1},\"x\":{\"field\":\"Predicted\"},\"y\":{\"field\":\"True\"}},\"id\":\"1097\",\"type\":\"Rect\"},{\"attributes\":{},\"id\":\"1116\",\"type\":\"Selection\"},{\"attributes\":{\"active_drag\":\"auto\",\"active_inspect\":\"auto\",\"active_multi\":null,\"active_scroll\":\"auto\",\"active_tap\":\"auto\",\"tools\":[{\"id\":\"1093\"}]},\"id\":\"1094\",\"type\":\"Toolbar\"},{\"attributes\":{\"callback\":null,\"tooltips\":[[\"True\",\"@{True}\"],[\"Predicted\",\"@{Predicted}\"],[\"Count\",\"@value\"]]},\"id\":\"1093\",\"type\":\"HoverTool\"},{\"attributes\":{\"factors\":[\"0\",\"1\"]},\"id\":\"1081\",\"type\":\"FactorRange\"},{\"attributes\":{},\"id\":\"1117\",\"type\":\"UnionRenderers\"},{\"attributes\":{},\"id\":\"1113\",\"type\":\"CategoricalTickFormatter\"},{\"attributes\":{\"factors\":[\"0\",\"1\"]},\"id\":\"1079\",\"type\":\"FactorRange\"},{\"attributes\":{\"text\":\"Confusion Matrix: Overall accuracy = 81.11%\"},\"id\":\"1077\",\"type\":\"Title\"},{\"attributes\":{},\"id\":\"1091\",\"type\":\"CategoricalTicker\"},{\"attributes\":{},\"id\":\"1083\",\"type\":\"CategoricalScale\"},{\"attributes\":{\"data\":{\"Predicted\":[\"0\",\"1\",\"0\",\"1\"],\"True\":[\"0\",\"0\",\"1\",\"1\"],\"index\":[0,1,2,3],\"value\":[1910,75,396,112]},\"selected\":{\"id\":\"1116\"},\"selection_policy\":{\"id\":\"1117\"}},\"id\":\"1074\",\"type\":\"ColumnDataSource\"},{\"attributes\":{},\"id\":\"1085\",\"type\":\"CategoricalScale\"}],\"root_ids\":[\"1076\"]},\"title\":\"Bokeh Application\",\"version\":\"2.2.3\"}};\n",
       "  var render_items = [{\"docid\":\"89500049-49ad-424d-8a00-3615152c5ba0\",\"root_ids\":[\"1076\"],\"roots\":{\"1076\":\"478891ca-7750-44f4-98ee-25c65fe9598b\"}}];\n",
       "  root.Bokeh.embed.embed_items_notebook(docs_json, render_items);\n",
       "\n",
       "  }\n",
       "  if (root.Bokeh !== undefined) {\n",
       "    embed_document(root);\n",
       "  } else {\n",
       "    var attempts = 0;\n",
       "    var timer = setInterval(function(root) {\n",
       "      if (root.Bokeh !== undefined) {\n",
       "        clearInterval(timer);\n",
       "        embed_document(root);\n",
       "      } else {\n",
       "        attempts++;\n",
       "        if (attempts > 100) {\n",
       "          clearInterval(timer);\n",
       "          console.log(\"Bokeh: ERROR: Unable to run BokehJS code because BokehJS library is missing\");\n",
       "        }\n",
       "      }\n",
       "    }, 10, root)\n",
       "  }\n",
       "})(window);"
      ],
      "application/vnd.bokehjs_exec.v0+json": ""
     },
     "metadata": {
      "application/vnd.bokehjs_exec.v0+json": {
       "id": "1076"
      }
     },
     "output_type": "display_data"
    }
   ],
   "source": [
    "predictions = clf.predict(x_test)\n",
    "plot_confusion_matrix(y_test, predictions)"
   ]
  },
  {
   "cell_type": "code",
   "execution_count": 14,
   "id": "ranking-button",
   "metadata": {},
   "outputs": [],
   "source": [
    "model_dic['Logistic Regression']= score"
   ]
  },
  {
   "cell_type": "markdown",
   "id": "intelligent-penalty",
   "metadata": {},
   "source": [
    "## Decision Tree"
   ]
  },
  {
   "cell_type": "code",
   "execution_count": 15,
   "id": "bacterial-inspiration",
   "metadata": {},
   "outputs": [],
   "source": [
    "from sklearn import tree\n",
    "clf = tree.DecisionTreeClassifier()\n",
    "\n",
    "clf = clf.fit(x_train, y_train)\n",
    "\n",
    "score = clf.score(x_test, y_test)"
   ]
  },
  {
   "cell_type": "code",
   "execution_count": 16,
   "id": "sufficient-gallery",
   "metadata": {},
   "outputs": [
    {
     "data": {
      "text/html": [
       "\n",
       "\n",
       "\n",
       "\n",
       "\n",
       "\n",
       "  <div class=\"bk-root\" id=\"45efa5e2-a4cc-4209-ac15-34a93ad825b0\" data-root-id=\"1155\"></div>\n"
      ]
     },
     "metadata": {},
     "output_type": "display_data"
    },
    {
     "data": {
      "application/javascript": [
       "(function(root) {\n",
       "  function embed_document(root) {\n",
       "    \n",
       "  var docs_json = {\"0ff92904-94de-469f-8862-b1248158fcec\":{\"roots\":{\"references\":[{\"attributes\":{\"below\":[{\"id\":\"1166\"}],\"center\":[{\"id\":\"1168\"},{\"id\":\"1171\"},{\"id\":\"1181\"}],\"left\":[{\"id\":\"1169\"}],\"plot_height\":300,\"plot_width\":300,\"renderers\":[{\"id\":\"1178\"}],\"title\":{\"id\":\"1156\"},\"toolbar\":{\"id\":\"1173\"},\"x_range\":{\"id\":\"1158\"},\"x_scale\":{\"id\":\"1162\"},\"y_range\":{\"id\":\"1160\"},\"y_scale\":{\"id\":\"1164\"}},\"id\":\"1155\",\"subtype\":\"Figure\",\"type\":\"Plot\"},{\"attributes\":{},\"id\":\"1167\",\"type\":\"CategoricalTicker\"},{\"attributes\":{},\"id\":\"1199\",\"type\":\"CategoricalTickFormatter\"},{\"attributes\":{\"active_drag\":\"auto\",\"active_inspect\":\"auto\",\"active_multi\":null,\"active_scroll\":\"auto\",\"active_tap\":\"auto\",\"tools\":[{\"id\":\"1172\"}]},\"id\":\"1173\",\"type\":\"Toolbar\"},{\"attributes\":{\"fill_color\":{\"field\":\"value\",\"transform\":{\"id\":\"1154\"}},\"height\":{\"units\":\"data\",\"value\":1},\"line_color\":{\"value\":\"grey\"},\"width\":{\"units\":\"data\",\"value\":1},\"x\":{\"field\":\"Predicted\"},\"y\":{\"field\":\"True\"}},\"id\":\"1176\",\"type\":\"Rect\"},{\"attributes\":{},\"id\":\"1164\",\"type\":\"CategoricalScale\"},{\"attributes\":{\"data\":{\"Predicted\":[\"0\",\"1\",\"0\",\"1\"],\"True\":[\"0\",\"0\",\"1\",\"1\"],\"index\":[0,1,2,3],\"value\":[1718,267,245,263]},\"selected\":{\"id\":\"1202\"},\"selection_policy\":{\"id\":\"1203\"}},\"id\":\"1153\",\"type\":\"ColumnDataSource\"},{\"attributes\":{\"palette\":[\"#053061\",\"#2166ac\",\"#4393c3\",\"#92c5de\",\"#d1e5f0\",\"#fddbc7\",\"#f4a582\",\"#d6604d\",\"#b2182b\",\"#67001f\"]},\"id\":\"1154\",\"type\":\"LinearColorMapper\"},{\"attributes\":{\"axis\":{\"id\":\"1169\"},\"dimension\":1,\"ticker\":null},\"id\":\"1171\",\"type\":\"Grid\"},{\"attributes\":{},\"id\":\"1170\",\"type\":\"CategoricalTicker\"},{\"attributes\":{\"axis_label\":\"Predicted\",\"axis_line_color\":null,\"formatter\":{\"id\":\"1201\"},\"major_label_orientation\":1.0,\"major_label_standoff\":0,\"major_label_text_font_size\":\"14px\",\"major_tick_line_color\":null,\"ticker\":{\"id\":\"1167\"}},\"id\":\"1166\",\"type\":\"CategoricalAxis\"},{\"attributes\":{\"callback\":null,\"tooltips\":[[\"True\",\"@{True}\"],[\"Predicted\",\"@{Predicted}\"],[\"Count\",\"@value\"]]},\"id\":\"1172\",\"type\":\"HoverTool\"},{\"attributes\":{},\"id\":\"1203\",\"type\":\"UnionRenderers\"},{\"attributes\":{\"factors\":[\"0\",\"1\"]},\"id\":\"1158\",\"type\":\"FactorRange\"},{\"attributes\":{},\"id\":\"1201\",\"type\":\"CategoricalTickFormatter\"},{\"attributes\":{\"source\":{\"id\":\"1153\"},\"text\":{\"field\":\"value\"},\"text_color\":{\"value\":\"white\"},\"x\":{\"field\":\"Predicted\"},\"x_offset\":{\"value\":50},\"y\":{\"field\":\"True\"},\"y_offset\":{\"value\":50}},\"id\":\"1181\",\"type\":\"LabelSet\"},{\"attributes\":{\"fill_alpha\":{\"value\":0.1},\"fill_color\":{\"field\":\"value\",\"transform\":{\"id\":\"1154\"}},\"height\":{\"units\":\"data\",\"value\":1},\"line_alpha\":{\"value\":0.1},\"line_color\":{\"value\":\"grey\"},\"width\":{\"units\":\"data\",\"value\":1},\"x\":{\"field\":\"Predicted\"},\"y\":{\"field\":\"True\"}},\"id\":\"1177\",\"type\":\"Rect\"},{\"attributes\":{\"source\":{\"id\":\"1153\"}},\"id\":\"1179\",\"type\":\"CDSView\"},{\"attributes\":{\"data_source\":{\"id\":\"1153\"},\"glyph\":{\"id\":\"1176\"},\"hover_glyph\":null,\"muted_glyph\":null,\"nonselection_glyph\":{\"id\":\"1177\"},\"selection_glyph\":null,\"view\":{\"id\":\"1179\"}},\"id\":\"1178\",\"type\":\"GlyphRenderer\"},{\"attributes\":{},\"id\":\"1162\",\"type\":\"CategoricalScale\"},{\"attributes\":{\"factors\":[\"0\",\"1\"]},\"id\":\"1160\",\"type\":\"FactorRange\"},{\"attributes\":{\"axis\":{\"id\":\"1166\"},\"ticker\":null},\"id\":\"1168\",\"type\":\"Grid\"},{\"attributes\":{\"text\":\"Confusion Matrix: Overall accuracy = 79.46%\"},\"id\":\"1156\",\"type\":\"Title\"},{\"attributes\":{\"axis_label\":\"True\",\"axis_line_color\":null,\"formatter\":{\"id\":\"1199\"},\"major_label_standoff\":0,\"major_label_text_font_size\":\"14px\",\"major_tick_line_color\":null,\"ticker\":{\"id\":\"1170\"}},\"id\":\"1169\",\"type\":\"CategoricalAxis\"},{\"attributes\":{},\"id\":\"1202\",\"type\":\"Selection\"}],\"root_ids\":[\"1155\"]},\"title\":\"Bokeh Application\",\"version\":\"2.2.3\"}};\n",
       "  var render_items = [{\"docid\":\"0ff92904-94de-469f-8862-b1248158fcec\",\"root_ids\":[\"1155\"],\"roots\":{\"1155\":\"45efa5e2-a4cc-4209-ac15-34a93ad825b0\"}}];\n",
       "  root.Bokeh.embed.embed_items_notebook(docs_json, render_items);\n",
       "\n",
       "  }\n",
       "  if (root.Bokeh !== undefined) {\n",
       "    embed_document(root);\n",
       "  } else {\n",
       "    var attempts = 0;\n",
       "    var timer = setInterval(function(root) {\n",
       "      if (root.Bokeh !== undefined) {\n",
       "        clearInterval(timer);\n",
       "        embed_document(root);\n",
       "      } else {\n",
       "        attempts++;\n",
       "        if (attempts > 100) {\n",
       "          clearInterval(timer);\n",
       "          console.log(\"Bokeh: ERROR: Unable to run BokehJS code because BokehJS library is missing\");\n",
       "        }\n",
       "      }\n",
       "    }, 10, root)\n",
       "  }\n",
       "})(window);"
      ],
      "application/vnd.bokehjs_exec.v0+json": ""
     },
     "metadata": {
      "application/vnd.bokehjs_exec.v0+json": {
       "id": "1155"
      }
     },
     "output_type": "display_data"
    }
   ],
   "source": [
    "predictions = clf.predict(x_test)\n",
    "plot_confusion_matrix(y_test, predictions)"
   ]
  },
  {
   "cell_type": "code",
   "execution_count": 17,
   "id": "rising-excess",
   "metadata": {},
   "outputs": [],
   "source": [
    "model_dic['Decision Tree']= score"
   ]
  },
  {
   "cell_type": "markdown",
   "id": "supreme-asian",
   "metadata": {},
   "source": [
    "## Random Forest"
   ]
  },
  {
   "cell_type": "code",
   "execution_count": 18,
   "id": "moving-knife",
   "metadata": {},
   "outputs": [],
   "source": [
    "from sklearn.ensemble import RandomForestClassifier\n",
    "\n",
    "clf = RandomForestClassifier(random_state = 0)\n",
    "\n",
    "clf = clf.fit(x_train, y_train)\n",
    "\n",
    "score = clf.score(x_test, y_test)"
   ]
  },
  {
   "cell_type": "code",
   "execution_count": 19,
   "id": "magnetic-reporter",
   "metadata": {},
   "outputs": [
    {
     "data": {
      "text/html": [
       "\n",
       "\n",
       "\n",
       "\n",
       "\n",
       "\n",
       "  <div class=\"bk-root\" id=\"aa4132bb-07d1-489b-9548-12388683e299\" data-root-id=\"1241\"></div>\n"
      ]
     },
     "metadata": {},
     "output_type": "display_data"
    },
    {
     "data": {
      "application/javascript": [
       "(function(root) {\n",
       "  function embed_document(root) {\n",
       "    \n",
       "  var docs_json = {\"70712db5-b2f0-4a3d-8d73-5c53365c3da0\":{\"roots\":{\"references\":[{\"attributes\":{\"below\":[{\"id\":\"1252\"}],\"center\":[{\"id\":\"1254\"},{\"id\":\"1257\"},{\"id\":\"1267\"}],\"left\":[{\"id\":\"1255\"}],\"plot_height\":300,\"plot_width\":300,\"renderers\":[{\"id\":\"1264\"}],\"title\":{\"id\":\"1242\"},\"toolbar\":{\"id\":\"1259\"},\"x_range\":{\"id\":\"1244\"},\"x_scale\":{\"id\":\"1248\"},\"y_range\":{\"id\":\"1246\"},\"y_scale\":{\"id\":\"1250\"}},\"id\":\"1241\",\"subtype\":\"Figure\",\"type\":\"Plot\"},{\"attributes\":{\"axis\":{\"id\":\"1255\"},\"dimension\":1,\"ticker\":null},\"id\":\"1257\",\"type\":\"Grid\"},{\"attributes\":{},\"id\":\"1250\",\"type\":\"CategoricalScale\"},{\"attributes\":{\"axis\":{\"id\":\"1252\"},\"ticker\":null},\"id\":\"1254\",\"type\":\"Grid\"},{\"attributes\":{\"source\":{\"id\":\"1239\"},\"text\":{\"field\":\"value\"},\"text_color\":{\"value\":\"white\"},\"x\":{\"field\":\"Predicted\"},\"x_offset\":{\"value\":50},\"y\":{\"field\":\"True\"},\"y_offset\":{\"value\":50}},\"id\":\"1267\",\"type\":\"LabelSet\"},{\"attributes\":{\"fill_color\":{\"field\":\"value\",\"transform\":{\"id\":\"1240\"}},\"height\":{\"units\":\"data\",\"value\":1},\"line_color\":{\"value\":\"grey\"},\"width\":{\"units\":\"data\",\"value\":1},\"x\":{\"field\":\"Predicted\"},\"y\":{\"field\":\"True\"}},\"id\":\"1262\",\"type\":\"Rect\"},{\"attributes\":{},\"id\":\"1256\",\"type\":\"CategoricalTicker\"},{\"attributes\":{\"axis_label\":\"Predicted\",\"axis_line_color\":null,\"formatter\":{\"id\":\"1294\"},\"major_label_orientation\":1.0,\"major_label_standoff\":0,\"major_label_text_font_size\":\"14px\",\"major_tick_line_color\":null,\"ticker\":{\"id\":\"1253\"}},\"id\":\"1252\",\"type\":\"CategoricalAxis\"},{\"attributes\":{},\"id\":\"1292\",\"type\":\"CategoricalTickFormatter\"},{\"attributes\":{\"active_drag\":\"auto\",\"active_inspect\":\"auto\",\"active_multi\":null,\"active_scroll\":\"auto\",\"active_tap\":\"auto\",\"tools\":[{\"id\":\"1258\"}]},\"id\":\"1259\",\"type\":\"Toolbar\"},{\"attributes\":{},\"id\":\"1294\",\"type\":\"CategoricalTickFormatter\"},{\"attributes\":{\"factors\":[\"0\",\"1\"]},\"id\":\"1246\",\"type\":\"FactorRange\"},{\"attributes\":{\"factors\":[\"0\",\"1\"]},\"id\":\"1244\",\"type\":\"FactorRange\"},{\"attributes\":{},\"id\":\"1253\",\"type\":\"CategoricalTicker\"},{\"attributes\":{\"callback\":null,\"tooltips\":[[\"True\",\"@{True}\"],[\"Predicted\",\"@{Predicted}\"],[\"Count\",\"@value\"]]},\"id\":\"1258\",\"type\":\"HoverTool\"},{\"attributes\":{},\"id\":\"1248\",\"type\":\"CategoricalScale\"},{\"attributes\":{\"source\":{\"id\":\"1239\"}},\"id\":\"1265\",\"type\":\"CDSView\"},{\"attributes\":{\"text\":\"Confusion Matrix: Overall accuracy = 85.84%\"},\"id\":\"1242\",\"type\":\"Title\"},{\"attributes\":{},\"id\":\"1295\",\"type\":\"Selection\"},{\"attributes\":{\"data_source\":{\"id\":\"1239\"},\"glyph\":{\"id\":\"1262\"},\"hover_glyph\":null,\"muted_glyph\":null,\"nonselection_glyph\":{\"id\":\"1263\"},\"selection_glyph\":null,\"view\":{\"id\":\"1265\"}},\"id\":\"1264\",\"type\":\"GlyphRenderer\"},{\"attributes\":{\"data\":{\"Predicted\":[\"0\",\"1\",\"0\",\"1\"],\"True\":[\"0\",\"0\",\"1\",\"1\"],\"index\":[0,1,2,3],\"value\":[1906,79,274,234]},\"selected\":{\"id\":\"1295\"},\"selection_policy\":{\"id\":\"1296\"}},\"id\":\"1239\",\"type\":\"ColumnDataSource\"},{\"attributes\":{\"palette\":[\"#053061\",\"#2166ac\",\"#4393c3\",\"#92c5de\",\"#d1e5f0\",\"#fddbc7\",\"#f4a582\",\"#d6604d\",\"#b2182b\",\"#67001f\"]},\"id\":\"1240\",\"type\":\"LinearColorMapper\"},{\"attributes\":{},\"id\":\"1296\",\"type\":\"UnionRenderers\"},{\"attributes\":{\"fill_alpha\":{\"value\":0.1},\"fill_color\":{\"field\":\"value\",\"transform\":{\"id\":\"1240\"}},\"height\":{\"units\":\"data\",\"value\":1},\"line_alpha\":{\"value\":0.1},\"line_color\":{\"value\":\"grey\"},\"width\":{\"units\":\"data\",\"value\":1},\"x\":{\"field\":\"Predicted\"},\"y\":{\"field\":\"True\"}},\"id\":\"1263\",\"type\":\"Rect\"},{\"attributes\":{\"axis_label\":\"True\",\"axis_line_color\":null,\"formatter\":{\"id\":\"1292\"},\"major_label_standoff\":0,\"major_label_text_font_size\":\"14px\",\"major_tick_line_color\":null,\"ticker\":{\"id\":\"1256\"}},\"id\":\"1255\",\"type\":\"CategoricalAxis\"}],\"root_ids\":[\"1241\"]},\"title\":\"Bokeh Application\",\"version\":\"2.2.3\"}};\n",
       "  var render_items = [{\"docid\":\"70712db5-b2f0-4a3d-8d73-5c53365c3da0\",\"root_ids\":[\"1241\"],\"roots\":{\"1241\":\"aa4132bb-07d1-489b-9548-12388683e299\"}}];\n",
       "  root.Bokeh.embed.embed_items_notebook(docs_json, render_items);\n",
       "\n",
       "  }\n",
       "  if (root.Bokeh !== undefined) {\n",
       "    embed_document(root);\n",
       "  } else {\n",
       "    var attempts = 0;\n",
       "    var timer = setInterval(function(root) {\n",
       "      if (root.Bokeh !== undefined) {\n",
       "        clearInterval(timer);\n",
       "        embed_document(root);\n",
       "      } else {\n",
       "        attempts++;\n",
       "        if (attempts > 100) {\n",
       "          clearInterval(timer);\n",
       "          console.log(\"Bokeh: ERROR: Unable to run BokehJS code because BokehJS library is missing\");\n",
       "        }\n",
       "      }\n",
       "    }, 10, root)\n",
       "  }\n",
       "})(window);"
      ],
      "application/vnd.bokehjs_exec.v0+json": ""
     },
     "metadata": {
      "application/vnd.bokehjs_exec.v0+json": {
       "id": "1241"
      }
     },
     "output_type": "display_data"
    }
   ],
   "source": [
    "y_hat = clf.predict(x_test)\n",
    "plot_confusion_matrix(y_test, y_hat)"
   ]
  },
  {
   "cell_type": "code",
   "execution_count": 20,
   "id": "bronze-class",
   "metadata": {},
   "outputs": [],
   "source": [
    "model_dic['Random Forest']= score"
   ]
  },
  {
   "cell_type": "markdown",
   "id": "atlantic-coordination",
   "metadata": {},
   "source": [
    "## Gradient Forest"
   ]
  },
  {
   "cell_type": "code",
   "execution_count": 21,
   "id": "published-geometry",
   "metadata": {},
   "outputs": [],
   "source": [
    "from sklearn.ensemble import GradientBoostingClassifier\n",
    "\n",
    "clf = GradientBoostingClassifier(random_state = 0)\n",
    "\n",
    "clf = clf.fit(x_train, y_train)\n",
    "\n",
    "score = clf.score(x_test, y_test)"
   ]
  },
  {
   "cell_type": "code",
   "execution_count": 22,
   "id": "agricultural-trial",
   "metadata": {},
   "outputs": [
    {
     "data": {
      "text/html": [
       "\n",
       "\n",
       "\n",
       "\n",
       "\n",
       "\n",
       "  <div class=\"bk-root\" id=\"19c2e742-d0d7-4b5f-b875-8baadc081458\" data-root-id=\"1334\"></div>\n"
      ]
     },
     "metadata": {},
     "output_type": "display_data"
    },
    {
     "data": {
      "application/javascript": [
       "(function(root) {\n",
       "  function embed_document(root) {\n",
       "    \n",
       "  var docs_json = {\"432e13f0-f4c3-4e09-b3ec-c5fbc13cf745\":{\"roots\":{\"references\":[{\"attributes\":{\"below\":[{\"id\":\"1345\"}],\"center\":[{\"id\":\"1347\"},{\"id\":\"1350\"},{\"id\":\"1360\"}],\"left\":[{\"id\":\"1348\"}],\"plot_height\":300,\"plot_width\":300,\"renderers\":[{\"id\":\"1357\"}],\"title\":{\"id\":\"1335\"},\"toolbar\":{\"id\":\"1352\"},\"x_range\":{\"id\":\"1337\"},\"x_scale\":{\"id\":\"1341\"},\"y_range\":{\"id\":\"1339\"},\"y_scale\":{\"id\":\"1343\"}},\"id\":\"1334\",\"subtype\":\"Figure\",\"type\":\"Plot\"},{\"attributes\":{\"data\":{\"Predicted\":[\"0\",\"1\",\"0\",\"1\"],\"True\":[\"0\",\"0\",\"1\",\"1\"],\"index\":[0,1,2,3],\"value\":[1905,80,271,237]},\"selected\":{\"id\":\"1395\"},\"selection_policy\":{\"id\":\"1396\"}},\"id\":\"1332\",\"type\":\"ColumnDataSource\"},{\"attributes\":{\"data_source\":{\"id\":\"1332\"},\"glyph\":{\"id\":\"1355\"},\"hover_glyph\":null,\"muted_glyph\":null,\"nonselection_glyph\":{\"id\":\"1356\"},\"selection_glyph\":null,\"view\":{\"id\":\"1358\"}},\"id\":\"1357\",\"type\":\"GlyphRenderer\"},{\"attributes\":{\"palette\":[\"#053061\",\"#2166ac\",\"#4393c3\",\"#92c5de\",\"#d1e5f0\",\"#fddbc7\",\"#f4a582\",\"#d6604d\",\"#b2182b\",\"#67001f\"]},\"id\":\"1333\",\"type\":\"LinearColorMapper\"},{\"attributes\":{},\"id\":\"1394\",\"type\":\"CategoricalTickFormatter\"},{\"attributes\":{\"text\":\"Confusion Matrix: Overall accuracy = 85.92%\"},\"id\":\"1335\",\"type\":\"Title\"},{\"attributes\":{\"factors\":[\"0\",\"1\"]},\"id\":\"1337\",\"type\":\"FactorRange\"},{\"attributes\":{\"axis_label\":\"True\",\"axis_line_color\":null,\"formatter\":{\"id\":\"1392\"},\"major_label_standoff\":0,\"major_label_text_font_size\":\"14px\",\"major_tick_line_color\":null,\"ticker\":{\"id\":\"1349\"}},\"id\":\"1348\",\"type\":\"CategoricalAxis\"},{\"attributes\":{\"axis_label\":\"Predicted\",\"axis_line_color\":null,\"formatter\":{\"id\":\"1394\"},\"major_label_orientation\":1.0,\"major_label_standoff\":0,\"major_label_text_font_size\":\"14px\",\"major_tick_line_color\":null,\"ticker\":{\"id\":\"1346\"}},\"id\":\"1345\",\"type\":\"CategoricalAxis\"},{\"attributes\":{\"active_drag\":\"auto\",\"active_inspect\":\"auto\",\"active_multi\":null,\"active_scroll\":\"auto\",\"active_tap\":\"auto\",\"tools\":[{\"id\":\"1351\"}]},\"id\":\"1352\",\"type\":\"Toolbar\"},{\"attributes\":{\"source\":{\"id\":\"1332\"},\"text\":{\"field\":\"value\"},\"text_color\":{\"value\":\"white\"},\"x\":{\"field\":\"Predicted\"},\"x_offset\":{\"value\":50},\"y\":{\"field\":\"True\"},\"y_offset\":{\"value\":50}},\"id\":\"1360\",\"type\":\"LabelSet\"},{\"attributes\":{\"fill_alpha\":{\"value\":0.1},\"fill_color\":{\"field\":\"value\",\"transform\":{\"id\":\"1333\"}},\"height\":{\"units\":\"data\",\"value\":1},\"line_alpha\":{\"value\":0.1},\"line_color\":{\"value\":\"grey\"},\"width\":{\"units\":\"data\",\"value\":1},\"x\":{\"field\":\"Predicted\"},\"y\":{\"field\":\"True\"}},\"id\":\"1356\",\"type\":\"Rect\"},{\"attributes\":{\"axis\":{\"id\":\"1345\"},\"ticker\":null},\"id\":\"1347\",\"type\":\"Grid\"},{\"attributes\":{\"source\":{\"id\":\"1332\"}},\"id\":\"1358\",\"type\":\"CDSView\"},{\"attributes\":{},\"id\":\"1343\",\"type\":\"CategoricalScale\"},{\"attributes\":{},\"id\":\"1341\",\"type\":\"CategoricalScale\"},{\"attributes\":{\"factors\":[\"0\",\"1\"]},\"id\":\"1339\",\"type\":\"FactorRange\"},{\"attributes\":{\"fill_color\":{\"field\":\"value\",\"transform\":{\"id\":\"1333\"}},\"height\":{\"units\":\"data\",\"value\":1},\"line_color\":{\"value\":\"grey\"},\"width\":{\"units\":\"data\",\"value\":1},\"x\":{\"field\":\"Predicted\"},\"y\":{\"field\":\"True\"}},\"id\":\"1355\",\"type\":\"Rect\"},{\"attributes\":{\"axis\":{\"id\":\"1348\"},\"dimension\":1,\"ticker\":null},\"id\":\"1350\",\"type\":\"Grid\"},{\"attributes\":{},\"id\":\"1392\",\"type\":\"CategoricalTickFormatter\"},{\"attributes\":{},\"id\":\"1346\",\"type\":\"CategoricalTicker\"},{\"attributes\":{},\"id\":\"1395\",\"type\":\"Selection\"},{\"attributes\":{},\"id\":\"1396\",\"type\":\"UnionRenderers\"},{\"attributes\":{\"callback\":null,\"tooltips\":[[\"True\",\"@{True}\"],[\"Predicted\",\"@{Predicted}\"],[\"Count\",\"@value\"]]},\"id\":\"1351\",\"type\":\"HoverTool\"},{\"attributes\":{},\"id\":\"1349\",\"type\":\"CategoricalTicker\"}],\"root_ids\":[\"1334\"]},\"title\":\"Bokeh Application\",\"version\":\"2.2.3\"}};\n",
       "  var render_items = [{\"docid\":\"432e13f0-f4c3-4e09-b3ec-c5fbc13cf745\",\"root_ids\":[\"1334\"],\"roots\":{\"1334\":\"19c2e742-d0d7-4b5f-b875-8baadc081458\"}}];\n",
       "  root.Bokeh.embed.embed_items_notebook(docs_json, render_items);\n",
       "\n",
       "  }\n",
       "  if (root.Bokeh !== undefined) {\n",
       "    embed_document(root);\n",
       "  } else {\n",
       "    var attempts = 0;\n",
       "    var timer = setInterval(function(root) {\n",
       "      if (root.Bokeh !== undefined) {\n",
       "        clearInterval(timer);\n",
       "        embed_document(root);\n",
       "      } else {\n",
       "        attempts++;\n",
       "        if (attempts > 100) {\n",
       "          clearInterval(timer);\n",
       "          console.log(\"Bokeh: ERROR: Unable to run BokehJS code because BokehJS library is missing\");\n",
       "        }\n",
       "      }\n",
       "    }, 10, root)\n",
       "  }\n",
       "})(window);"
      ],
      "application/vnd.bokehjs_exec.v0+json": ""
     },
     "metadata": {
      "application/vnd.bokehjs_exec.v0+json": {
       "id": "1334"
      }
     },
     "output_type": "display_data"
    }
   ],
   "source": [
    "predictions = clf.predict(x_test)\n",
    "plot_confusion_matrix(y_test, predictions)"
   ]
  },
  {
   "cell_type": "code",
   "execution_count": 23,
   "id": "liquid-engineer",
   "metadata": {},
   "outputs": [],
   "source": [
    "model_dic['Gradient Forest']= score"
   ]
  },
  {
   "cell_type": "markdown",
   "id": "provincial-marketplace",
   "metadata": {},
   "source": [
    "## AdaBoost"
   ]
  },
  {
   "cell_type": "code",
   "execution_count": 24,
   "id": "fifty-express",
   "metadata": {},
   "outputs": [],
   "source": [
    "from sklearn.ensemble import AdaBoostClassifier\n",
    "\n",
    "clf = AdaBoostClassifier(random_state = 0)\n",
    "\n",
    "clf = clf.fit(x_train, y_train)\n",
    "\n",
    "score = clf.score(x_test, y_test)"
   ]
  },
  {
   "cell_type": "code",
   "execution_count": 25,
   "id": "listed-borough",
   "metadata": {},
   "outputs": [
    {
     "data": {
      "text/html": [
       "\n",
       "\n",
       "\n",
       "\n",
       "\n",
       "\n",
       "  <div class=\"bk-root\" id=\"9abcd276-0d06-4c9a-beed-090b6af8a166\" data-root-id=\"1434\"></div>\n"
      ]
     },
     "metadata": {},
     "output_type": "display_data"
    },
    {
     "data": {
      "application/javascript": [
       "(function(root) {\n",
       "  function embed_document(root) {\n",
       "    \n",
       "  var docs_json = {\"ec8fb08d-b75c-4145-81e9-6d92c1f7170b\":{\"roots\":{\"references\":[{\"attributes\":{\"below\":[{\"id\":\"1445\"}],\"center\":[{\"id\":\"1447\"},{\"id\":\"1450\"},{\"id\":\"1460\"}],\"left\":[{\"id\":\"1448\"}],\"plot_height\":300,\"plot_width\":300,\"renderers\":[{\"id\":\"1457\"}],\"title\":{\"id\":\"1435\"},\"toolbar\":{\"id\":\"1452\"},\"x_range\":{\"id\":\"1437\"},\"x_scale\":{\"id\":\"1441\"},\"y_range\":{\"id\":\"1439\"},\"y_scale\":{\"id\":\"1443\"}},\"id\":\"1434\",\"subtype\":\"Figure\",\"type\":\"Plot\"},{\"attributes\":{\"axis\":{\"id\":\"1448\"},\"dimension\":1,\"ticker\":null},\"id\":\"1450\",\"type\":\"Grid\"},{\"attributes\":{\"fill_color\":{\"field\":\"value\",\"transform\":{\"id\":\"1433\"}},\"height\":{\"units\":\"data\",\"value\":1},\"line_color\":{\"value\":\"grey\"},\"width\":{\"units\":\"data\",\"value\":1},\"x\":{\"field\":\"Predicted\"},\"y\":{\"field\":\"True\"}},\"id\":\"1455\",\"type\":\"Rect\"},{\"attributes\":{\"axis\":{\"id\":\"1445\"},\"ticker\":null},\"id\":\"1447\",\"type\":\"Grid\"},{\"attributes\":{\"axis_label\":\"True\",\"axis_line_color\":null,\"formatter\":{\"id\":\"1499\"},\"major_label_standoff\":0,\"major_label_text_font_size\":\"14px\",\"major_tick_line_color\":null,\"ticker\":{\"id\":\"1449\"}},\"id\":\"1448\",\"type\":\"CategoricalAxis\"},{\"attributes\":{},\"id\":\"1499\",\"type\":\"CategoricalTickFormatter\"},{\"attributes\":{},\"id\":\"1446\",\"type\":\"CategoricalTicker\"},{\"attributes\":{\"factors\":[\"0\",\"1\"]},\"id\":\"1437\",\"type\":\"FactorRange\"},{\"attributes\":{},\"id\":\"1441\",\"type\":\"CategoricalScale\"},{\"attributes\":{\"callback\":null,\"tooltips\":[[\"True\",\"@{True}\"],[\"Predicted\",\"@{Predicted}\"],[\"Count\",\"@value\"]]},\"id\":\"1451\",\"type\":\"HoverTool\"},{\"attributes\":{\"factors\":[\"0\",\"1\"]},\"id\":\"1439\",\"type\":\"FactorRange\"},{\"attributes\":{},\"id\":\"1443\",\"type\":\"CategoricalScale\"},{\"attributes\":{\"text\":\"Confusion Matrix: Overall accuracy = 84.8%\"},\"id\":\"1435\",\"type\":\"Title\"},{\"attributes\":{\"source\":{\"id\":\"1432\"},\"text\":{\"field\":\"value\"},\"text_color\":{\"value\":\"white\"},\"x\":{\"field\":\"Predicted\"},\"x_offset\":{\"value\":50},\"y\":{\"field\":\"True\"},\"y_offset\":{\"value\":50}},\"id\":\"1460\",\"type\":\"LabelSet\"},{\"attributes\":{\"source\":{\"id\":\"1432\"}},\"id\":\"1458\",\"type\":\"CDSView\"},{\"attributes\":{\"data\":{\"Predicted\":[\"0\",\"1\",\"0\",\"1\"],\"True\":[\"0\",\"0\",\"1\",\"1\"],\"index\":[0,1,2,3],\"value\":[1879,106,273,235]},\"selected\":{\"id\":\"1502\"},\"selection_policy\":{\"id\":\"1503\"}},\"id\":\"1432\",\"type\":\"ColumnDataSource\"},{\"attributes\":{},\"id\":\"1501\",\"type\":\"CategoricalTickFormatter\"},{\"attributes\":{\"fill_alpha\":{\"value\":0.1},\"fill_color\":{\"field\":\"value\",\"transform\":{\"id\":\"1433\"}},\"height\":{\"units\":\"data\",\"value\":1},\"line_alpha\":{\"value\":0.1},\"line_color\":{\"value\":\"grey\"},\"width\":{\"units\":\"data\",\"value\":1},\"x\":{\"field\":\"Predicted\"},\"y\":{\"field\":\"True\"}},\"id\":\"1456\",\"type\":\"Rect\"},{\"attributes\":{\"palette\":[\"#053061\",\"#2166ac\",\"#4393c3\",\"#92c5de\",\"#d1e5f0\",\"#fddbc7\",\"#f4a582\",\"#d6604d\",\"#b2182b\",\"#67001f\"]},\"id\":\"1433\",\"type\":\"LinearColorMapper\"},{\"attributes\":{},\"id\":\"1503\",\"type\":\"UnionRenderers\"},{\"attributes\":{\"data_source\":{\"id\":\"1432\"},\"glyph\":{\"id\":\"1455\"},\"hover_glyph\":null,\"muted_glyph\":null,\"nonselection_glyph\":{\"id\":\"1456\"},\"selection_glyph\":null,\"view\":{\"id\":\"1458\"}},\"id\":\"1457\",\"type\":\"GlyphRenderer\"},{\"attributes\":{},\"id\":\"1502\",\"type\":\"Selection\"},{\"attributes\":{\"axis_label\":\"Predicted\",\"axis_line_color\":null,\"formatter\":{\"id\":\"1501\"},\"major_label_orientation\":1.0,\"major_label_standoff\":0,\"major_label_text_font_size\":\"14px\",\"major_tick_line_color\":null,\"ticker\":{\"id\":\"1446\"}},\"id\":\"1445\",\"type\":\"CategoricalAxis\"},{\"attributes\":{\"active_drag\":\"auto\",\"active_inspect\":\"auto\",\"active_multi\":null,\"active_scroll\":\"auto\",\"active_tap\":\"auto\",\"tools\":[{\"id\":\"1451\"}]},\"id\":\"1452\",\"type\":\"Toolbar\"},{\"attributes\":{},\"id\":\"1449\",\"type\":\"CategoricalTicker\"}],\"root_ids\":[\"1434\"]},\"title\":\"Bokeh Application\",\"version\":\"2.2.3\"}};\n",
       "  var render_items = [{\"docid\":\"ec8fb08d-b75c-4145-81e9-6d92c1f7170b\",\"root_ids\":[\"1434\"],\"roots\":{\"1434\":\"9abcd276-0d06-4c9a-beed-090b6af8a166\"}}];\n",
       "  root.Bokeh.embed.embed_items_notebook(docs_json, render_items);\n",
       "\n",
       "  }\n",
       "  if (root.Bokeh !== undefined) {\n",
       "    embed_document(root);\n",
       "  } else {\n",
       "    var attempts = 0;\n",
       "    var timer = setInterval(function(root) {\n",
       "      if (root.Bokeh !== undefined) {\n",
       "        clearInterval(timer);\n",
       "        embed_document(root);\n",
       "      } else {\n",
       "        attempts++;\n",
       "        if (attempts > 100) {\n",
       "          clearInterval(timer);\n",
       "          console.log(\"Bokeh: ERROR: Unable to run BokehJS code because BokehJS library is missing\");\n",
       "        }\n",
       "      }\n",
       "    }, 10, root)\n",
       "  }\n",
       "})(window);"
      ],
      "application/vnd.bokehjs_exec.v0+json": ""
     },
     "metadata": {
      "application/vnd.bokehjs_exec.v0+json": {
       "id": "1434"
      }
     },
     "output_type": "display_data"
    }
   ],
   "source": [
    "predictions = clf.predict(x_test)\n",
    "plot_confusion_matrix(y_test, predictions)"
   ]
  },
  {
   "cell_type": "code",
   "execution_count": 26,
   "id": "informed-football",
   "metadata": {},
   "outputs": [],
   "source": [
    "model_dic['Adaboost']= score"
   ]
  },
  {
   "cell_type": "markdown",
   "id": "resistant-fellowship",
   "metadata": {},
   "source": [
    "## Choosing the best model:\n"
   ]
  },
  {
   "cell_type": "code",
   "execution_count": 27,
   "id": "antique-tiffany",
   "metadata": {},
   "outputs": [
    {
     "data": {
      "text/plain": [
       "{'Linear Regression': 0.15009944359133554,\n",
       " 'Logistic Regression': 0.8110709987966306,\n",
       " 'Decision Tree': 0.7946249498596069,\n",
       " 'Random Forest': 0.8584035298836743,\n",
       " 'Gradient Forest': 0.8592057761732852,\n",
       " 'Adaboost': 0.8479743281187324}"
      ]
     },
     "execution_count": 27,
     "metadata": {},
     "output_type": "execute_result"
    }
   ],
   "source": [
    "model_dic"
   ]
  },
  {
   "cell_type": "code",
   "execution_count": 28,
   "id": "chubby-hobby",
   "metadata": {},
   "outputs": [
    {
     "name": "stdout",
     "output_type": "stream",
     "text": [
      "Gradient Forest 0.8592057761732852\n"
     ]
    }
   ],
   "source": [
    "accuracy = 0\n",
    "model = \"\"\n",
    "for key, value in model_dic.items():\n",
    "    if value > accuracy:\n",
    "        model = key\n",
    "        accuracy = value\n",
    "        \n",
    "print(model, accuracy)     "
   ]
  },
  {
   "cell_type": "markdown",
   "id": "warming-spread",
   "metadata": {},
   "source": [
    "## Step 3:"
   ]
  },
  {
   "cell_type": "markdown",
   "id": "productive-nicholas",
   "metadata": {},
   "source": [
    "# How to fit model with other than adaboost?\n",
    "# Do i Need to change the app file?\n"
   ]
  },
  {
   "cell_type": "code",
   "execution_count": 29,
   "id": "collect-virginia",
   "metadata": {},
   "outputs": [],
   "source": [
    "import pickle\n",
    "from sklearn.ensemble import GradientBoostingClassifier\n",
    "\n",
    "\n",
    "gradient_params = {\n",
    "    'learning_rate': 0.01, \n",
    "    'n_estimators': 100,\n",
    "}\n",
    "\n",
    "clf = GradientBoostingClassifier(random_state = 0, **gradient_params)\n",
    "clf = clf.fit(x_train, y_train)\n",
    "with open('gradient.pkl', 'wb') as f:\n",
    "    pickle.dump(clf, f)"
   ]
  },
  {
   "cell_type": "markdown",
   "id": "protective-austin",
   "metadata": {},
   "source": [
    "# Requests to Endpoints"
   ]
  },
  {
   "cell_type": "code",
   "execution_count": null,
   "id": "fluid-vienna",
   "metadata": {},
   "outputs": [],
   "source": [
    "import requests\n",
    "\n",
    "gradient_url = 'http://127.0.0.1:5000/gradient'"
   ]
  },
  {
   "cell_type": "code",
   "execution_count": null,
   "id": "static-hypothetical",
   "metadata": {},
   "outputs": [],
   "source": [
    "index = 100\n",
    "data_dict = data.loc[index, feature].to_dict()\n",
    "data_dict"
   ]
  },
  {
   "cell_type": "code",
   "execution_count": null,
   "id": "brief-malaysia",
   "metadata": {},
   "outputs": [],
   "source": [
    "response = requests.post(gradient_url, json = data_dict)\n",
    "g_prediction = response.json()\n",
    "\n",
    "print(f'{index}: Gradient -> {g_prediction}')  "
   ]
  },
  {
   "cell_type": "code",
   "execution_count": null,
   "id": "noble-movie",
   "metadata": {},
   "outputs": [],
   "source": [
    "response"
   ]
  },
  {
   "cell_type": "code",
   "execution_count": null,
   "id": "accepted-subcommittee",
   "metadata": {},
   "outputs": [],
   "source": []
  },
  {
   "cell_type": "code",
   "execution_count": null,
   "id": "tribal-clinic",
   "metadata": {},
   "outputs": [],
   "source": []
  },
  {
   "cell_type": "code",
   "execution_count": null,
   "id": "muslim-milton",
   "metadata": {},
   "outputs": [],
   "source": []
  },
  {
   "cell_type": "code",
   "execution_count": null,
   "id": "encouraging-hardwood",
   "metadata": {},
   "outputs": [],
   "source": []
  }
 ],
 "metadata": {
  "kernelspec": {
   "display_name": "Python 3",
   "language": "python",
   "name": "python3"
  },
  "language_info": {
   "codemirror_mode": {
    "name": "ipython",
    "version": 3
   },
   "file_extension": ".py",
   "mimetype": "text/x-python",
   "name": "python",
   "nbconvert_exporter": "python",
   "pygments_lexer": "ipython3",
   "version": "3.8.5"
  }
 },
 "nbformat": 4,
 "nbformat_minor": 5
}
